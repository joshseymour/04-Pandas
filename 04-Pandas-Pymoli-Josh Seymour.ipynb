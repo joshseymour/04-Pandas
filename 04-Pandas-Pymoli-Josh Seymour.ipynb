{
 "cells": [
  {
   "cell_type": "markdown",
   "metadata": {},
   "source": [
    "### Heroes Of Pymoli Data Analysis\n",
    "* Of the 1163 active players, the vast majority are male (84%). There also exists, a smaller, but notable proportion of female players (14%).\n",
    "\n",
    "* Our peak age demographic falls between 20-24 (44.8%) with secondary groups falling between 15-19 (18.60%) and 25-29 (13.4%).  \n",
    "-----"
   ]
  },
  {
   "cell_type": "markdown",
   "metadata": {},
   "source": [
    "### Note\n",
    "* Instructions have been included for each segment. You do not have to follow them exactly, but they are included to help you think through the steps."
   ]
  },
  {
   "cell_type": "code",
   "execution_count": 1,
   "metadata": {},
   "outputs": [
    {
     "data": {
      "text/html": [
       "<div>\n",
       "<style scoped>\n",
       "    .dataframe tbody tr th:only-of-type {\n",
       "        vertical-align: middle;\n",
       "    }\n",
       "\n",
       "    .dataframe tbody tr th {\n",
       "        vertical-align: top;\n",
       "    }\n",
       "\n",
       "    .dataframe thead th {\n",
       "        text-align: right;\n",
       "    }\n",
       "</style>\n",
       "<table border=\"1\" class=\"dataframe\">\n",
       "  <thead>\n",
       "    <tr style=\"text-align: right;\">\n",
       "      <th></th>\n",
       "      <th>Purchase ID</th>\n",
       "      <th>SN</th>\n",
       "      <th>Age</th>\n",
       "      <th>Gender</th>\n",
       "      <th>Item ID</th>\n",
       "      <th>Item Name</th>\n",
       "      <th>Price</th>\n",
       "    </tr>\n",
       "  </thead>\n",
       "  <tbody>\n",
       "    <tr>\n",
       "      <th>0</th>\n",
       "      <td>0</td>\n",
       "      <td>Lisim78</td>\n",
       "      <td>20</td>\n",
       "      <td>Male</td>\n",
       "      <td>108</td>\n",
       "      <td>Extraction, Quickblade Of Trembling Hands</td>\n",
       "      <td>3.53</td>\n",
       "    </tr>\n",
       "    <tr>\n",
       "      <th>1</th>\n",
       "      <td>1</td>\n",
       "      <td>Lisovynya38</td>\n",
       "      <td>40</td>\n",
       "      <td>Male</td>\n",
       "      <td>143</td>\n",
       "      <td>Frenzied Scimitar</td>\n",
       "      <td>1.56</td>\n",
       "    </tr>\n",
       "    <tr>\n",
       "      <th>2</th>\n",
       "      <td>2</td>\n",
       "      <td>Ithergue48</td>\n",
       "      <td>24</td>\n",
       "      <td>Male</td>\n",
       "      <td>92</td>\n",
       "      <td>Final Critic</td>\n",
       "      <td>4.88</td>\n",
       "    </tr>\n",
       "    <tr>\n",
       "      <th>3</th>\n",
       "      <td>3</td>\n",
       "      <td>Chamassasya86</td>\n",
       "      <td>24</td>\n",
       "      <td>Male</td>\n",
       "      <td>100</td>\n",
       "      <td>Blindscythe</td>\n",
       "      <td>3.27</td>\n",
       "    </tr>\n",
       "    <tr>\n",
       "      <th>4</th>\n",
       "      <td>4</td>\n",
       "      <td>Iskosia90</td>\n",
       "      <td>23</td>\n",
       "      <td>Male</td>\n",
       "      <td>131</td>\n",
       "      <td>Fury</td>\n",
       "      <td>1.44</td>\n",
       "    </tr>\n",
       "  </tbody>\n",
       "</table>\n",
       "</div>"
      ],
      "text/plain": [
       "   Purchase ID             SN  Age Gender  Item ID  \\\n",
       "0            0        Lisim78   20   Male      108   \n",
       "1            1    Lisovynya38   40   Male      143   \n",
       "2            2     Ithergue48   24   Male       92   \n",
       "3            3  Chamassasya86   24   Male      100   \n",
       "4            4      Iskosia90   23   Male      131   \n",
       "\n",
       "                                   Item Name  Price  \n",
       "0  Extraction, Quickblade Of Trembling Hands   3.53  \n",
       "1                          Frenzied Scimitar   1.56  \n",
       "2                               Final Critic   4.88  \n",
       "3                                Blindscythe   3.27  \n",
       "4                                       Fury   1.44  "
      ]
     },
     "execution_count": 1,
     "metadata": {},
     "output_type": "execute_result"
    }
   ],
   "source": [
    "# Import libabries needed to for this homework assignment\n",
    "import pandas as pd\n",
    "import numpy as np\n",
    "\n",
    "# File to Load\n",
    "file_to_load = \"purchase_data.csv\"\n",
    "\n",
    "# Read data into dataframe(df)\n",
    "purchase_data = pd.read_csv(file_to_load)\n",
    "purchase_data.head()"
   ]
  },
  {
   "cell_type": "markdown",
   "metadata": {},
   "source": [
    "## Player Count"
   ]
  },
  {
   "cell_type": "markdown",
   "metadata": {},
   "source": [
    "* Display the total number of players\n"
   ]
  },
  {
   "cell_type": "code",
   "execution_count": 2,
   "metadata": {},
   "outputs": [
    {
     "data": {
      "text/html": [
       "<div>\n",
       "<style scoped>\n",
       "    .dataframe tbody tr th:only-of-type {\n",
       "        vertical-align: middle;\n",
       "    }\n",
       "\n",
       "    .dataframe tbody tr th {\n",
       "        vertical-align: top;\n",
       "    }\n",
       "\n",
       "    .dataframe thead th {\n",
       "        text-align: right;\n",
       "    }\n",
       "</style>\n",
       "<table border=\"1\" class=\"dataframe\">\n",
       "  <thead>\n",
       "    <tr style=\"text-align: right;\">\n",
       "      <th></th>\n",
       "      <th>Total Players</th>\n",
       "    </tr>\n",
       "  </thead>\n",
       "  <tbody>\n",
       "    <tr>\n",
       "      <th>0</th>\n",
       "      <td>576</td>\n",
       "    </tr>\n",
       "  </tbody>\n",
       "</table>\n",
       "</div>"
      ],
      "text/plain": [
       "   Total Players\n",
       "0            576"
      ]
     },
     "execution_count": 2,
     "metadata": {},
     "output_type": "execute_result"
    }
   ],
   "source": [
    "#getting the total lenth of the count in SN column, based on values\n",
    "total_players = len(purchase_data['SN'].value_counts())\n",
    "total_players\n",
    "\n",
    "#creating the dictionary to show the total count of players\n",
    "total_summary = pd.DataFrame({\"Total Players\": [total_players]})\n",
    "total_summary"
   ]
  },
  {
   "cell_type": "code",
   "execution_count": 3,
   "metadata": {},
   "outputs": [
    {
     "data": {
      "text/plain": [
       "Index(['Purchase ID', 'SN', 'Age', 'Gender', 'Item ID', 'Item Name', 'Price'], dtype='object')"
      ]
     },
     "execution_count": 3,
     "metadata": {},
     "output_type": "execute_result"
    }
   ],
   "source": [
    "#looking for the names of the columns, in case they look different than the file (e.g. spaces show as speacial characters)\n",
    "purchase_data.columns"
   ]
  },
  {
   "cell_type": "code",
   "execution_count": 4,
   "metadata": {},
   "outputs": [
    {
     "data": {
      "text/plain": [
       "Purchase ID      int64\n",
       "SN              object\n",
       "Age              int64\n",
       "Gender          object\n",
       "Item ID          int64\n",
       "Item Name       object\n",
       "Price          float64\n",
       "dtype: object"
      ]
     },
     "execution_count": 4,
     "metadata": {},
     "output_type": "execute_result"
    }
   ],
   "source": [
    "#looking for the types of data contained in the file (i.e. are numbers int or float, text is object, etc.)\n",
    "purchase_data.dtypes"
   ]
  },
  {
   "cell_type": "markdown",
   "metadata": {},
   "source": [
    "## Purchasing Analysis (Total)"
   ]
  },
  {
   "cell_type": "markdown",
   "metadata": {},
   "source": [
    "* Run basic calculations to obtain number of unique items, average price, etc.\n",
    "\n",
    "\n",
    "* Create a summary data frame to hold the results\n",
    "\n",
    "\n",
    "* Optional: give the displayed data cleaner formatting\n",
    "\n",
    "\n",
    "* Display the summary data frame\n"
   ]
  },
  {
   "cell_type": "code",
   "execution_count": 5,
   "metadata": {
    "scrolled": true
   },
   "outputs": [
    {
     "data": {
      "text/html": [
       "<div>\n",
       "<style scoped>\n",
       "    .dataframe tbody tr th:only-of-type {\n",
       "        vertical-align: middle;\n",
       "    }\n",
       "\n",
       "    .dataframe tbody tr th {\n",
       "        vertical-align: top;\n",
       "    }\n",
       "\n",
       "    .dataframe thead th {\n",
       "        text-align: right;\n",
       "    }\n",
       "</style>\n",
       "<table border=\"1\" class=\"dataframe\">\n",
       "  <thead>\n",
       "    <tr style=\"text-align: right;\">\n",
       "      <th></th>\n",
       "      <th>Number of Unique Items</th>\n",
       "      <th>Average Price</th>\n",
       "      <th>Number of Purchases</th>\n",
       "      <th>Total Revenue</th>\n",
       "    </tr>\n",
       "  </thead>\n",
       "  <tbody>\n",
       "    <tr>\n",
       "      <th>0</th>\n",
       "      <td>183</td>\n",
       "      <td>$3.05</td>\n",
       "      <td>780</td>\n",
       "      <td>$2379.77</td>\n",
       "    </tr>\n",
       "  </tbody>\n",
       "</table>\n",
       "</div>"
      ],
      "text/plain": [
       "   Number of Unique Items Average Price  Number of Purchases Total Revenue\n",
       "0                     183         $3.05                  780      $2379.77"
      ]
     },
     "execution_count": 5,
     "metadata": {},
     "output_type": "execute_result"
    }
   ],
   "source": [
    "#getting the total lenth of the count in the Item ID column, based on values\n",
    "unique_items = len(purchase_data['Item ID'].value_counts())\n",
    "unique_items\n",
    "\n",
    "#calc the average price by using the .mean function\n",
    "avg_price = round(purchase_data['Price'].mean(),2)\n",
    "avg_price\n",
    "\n",
    "#determine the total number of purchases using the .count function\n",
    "number_purchases = purchase_data['Purchase ID'].count()\n",
    "number_purchases\n",
    "\n",
    "#create the total revenue using the .sum function, roudinng to 2 decimal points\n",
    "total_revenue = round(purchase_data['Price'].sum(),2)\n",
    "total_revenue\n",
    "\n",
    "#create the gender summary dataframe\n",
    "gender_summary = pd.DataFrame({\"Number of Unique Items\": [unique_items],\n",
    "                                 \"Average Price\": \"$\" + str(avg_price), \n",
    "                                 \"Number of Purchases\": [number_purchases],\n",
    "                                 \"Total Revenue\": \"$\" + str(total_revenue)})\n",
    "gender_summary"
   ]
  },
  {
   "cell_type": "markdown",
   "metadata": {},
   "source": [
    "## Gender Demographics"
   ]
  },
  {
   "cell_type": "markdown",
   "metadata": {},
   "source": [
    "* Percentage and Count of Male Players\n",
    "\n",
    "\n",
    "* Percentage and Count of Female Players\n",
    "\n",
    "\n",
    "* Percentage and Count of Other / Non-Disclosed\n",
    "\n",
    "\n"
   ]
  },
  {
   "cell_type": "code",
   "execution_count": 6,
   "metadata": {},
   "outputs": [],
   "source": [
    "#grouping the data based on the values in the Gender column\n",
    "gender_data = purchase_data.groupby(['Gender'])\n",
    "\n",
    "#get the total number of counts based on unique Screen names, grouped by Gender. This stopped counting dup SN.\n",
    "total_count = gender_data.nunique()[\"SN\"]"
   ]
  },
  {
   "cell_type": "code",
   "execution_count": 7,
   "metadata": {},
   "outputs": [
    {
     "data": {
      "text/html": [
       "<div>\n",
       "<style scoped>\n",
       "    .dataframe tbody tr th:only-of-type {\n",
       "        vertical-align: middle;\n",
       "    }\n",
       "\n",
       "    .dataframe tbody tr th {\n",
       "        vertical-align: top;\n",
       "    }\n",
       "\n",
       "    .dataframe thead th {\n",
       "        text-align: right;\n",
       "    }\n",
       "</style>\n",
       "<table border=\"1\" class=\"dataframe\">\n",
       "  <thead>\n",
       "    <tr style=\"text-align: right;\">\n",
       "      <th></th>\n",
       "      <th>Total Count</th>\n",
       "      <th>Percentage of Players</th>\n",
       "    </tr>\n",
       "  </thead>\n",
       "  <tbody>\n",
       "    <tr>\n",
       "      <th>Male</th>\n",
       "      <td>484</td>\n",
       "      <td>84.03</td>\n",
       "    </tr>\n",
       "    <tr>\n",
       "      <th>Female</th>\n",
       "      <td>81</td>\n",
       "      <td>14.06</td>\n",
       "    </tr>\n",
       "    <tr>\n",
       "      <th>Other / Non-Disclosed</th>\n",
       "      <td>11</td>\n",
       "      <td>1.91</td>\n",
       "    </tr>\n",
       "  </tbody>\n",
       "</table>\n",
       "</div>"
      ],
      "text/plain": [
       "                       Total Count  Percentage of Players\n",
       "Male                           484                  84.03\n",
       "Female                          81                  14.06\n",
       "Other / Non-Disclosed           11                   1.91"
      ]
     },
     "execution_count": 7,
     "metadata": {},
     "output_type": "execute_result"
    }
   ],
   "source": [
    "# Creating a new DataFrame using both total count and percentage\n",
    "gender_summary_table = pd.DataFrame({\"Total Count\": total_count,\n",
    "                                     \"Percentage of Players\": round(total_count / total_players * 100,2)\n",
    "                                    })\n",
    "\n",
    "#remove the gender title from the dataframe.  This was only cosmetic.\n",
    "del gender_summary_table.index.name\n",
    "\n",
    "#created a new df to sort the values from high to low, based on total count\n",
    "cleansed_gender = gender_summary_table.sort_values(\"Total Count\", ascending=False)\n",
    "#print the df\n",
    "cleansed_gender"
   ]
  },
  {
   "cell_type": "markdown",
   "metadata": {},
   "source": [
    "\n",
    "## Purchasing Analysis (Gender)"
   ]
  },
  {
   "cell_type": "markdown",
   "metadata": {},
   "source": [
    "* Run basic calculations to obtain purchase count, avg. purchase price, avg. purchase total per person etc. by gender\n",
    "\n",
    "\n",
    "\n",
    "\n",
    "* Create a summary data frame to hold the results\n",
    "\n",
    "\n",
    "* Optional: give the displayed data cleaner formatting\n",
    "\n",
    "\n",
    "* Display the summary data frame"
   ]
  },
  {
   "cell_type": "code",
   "execution_count": 8,
   "metadata": {
    "scrolled": true
   },
   "outputs": [
    {
     "data": {
      "text/html": [
       "<style  type=\"text/css\" >\n",
       "</style><table id=\"T_7cbee08c_9202_11e9_97ce_48a4726a9293\" ><thead>    <tr>        <th class=\"blank level0\" ></th>        <th class=\"col_heading level0 col0\" >Purchase Count</th>        <th class=\"col_heading level0 col1\" >Average Purchase Price</th>        <th class=\"col_heading level0 col2\" >Total Purchase Value</th>        <th class=\"col_heading level0 col3\" >Avg Total Purchase per Person</th>    </tr>    <tr>        <th class=\"index_name level0\" >Gender</th>        <th class=\"blank\" ></th>        <th class=\"blank\" ></th>        <th class=\"blank\" ></th>        <th class=\"blank\" ></th>    </tr></thead><tbody>\n",
       "                <tr>\n",
       "                        <th id=\"T_7cbee08c_9202_11e9_97ce_48a4726a9293level0_row0\" class=\"row_heading level0 row0\" >Female</th>\n",
       "                        <td id=\"T_7cbee08c_9202_11e9_97ce_48a4726a9293row0_col0\" class=\"data row0 col0\" >113</td>\n",
       "                        <td id=\"T_7cbee08c_9202_11e9_97ce_48a4726a9293row0_col1\" class=\"data row0 col1\" >$3.20</td>\n",
       "                        <td id=\"T_7cbee08c_9202_11e9_97ce_48a4726a9293row0_col2\" class=\"data row0 col2\" >$361.94</td>\n",
       "                        <td id=\"T_7cbee08c_9202_11e9_97ce_48a4726a9293row0_col3\" class=\"data row0 col3\" >$4.47</td>\n",
       "            </tr>\n",
       "            <tr>\n",
       "                        <th id=\"T_7cbee08c_9202_11e9_97ce_48a4726a9293level0_row1\" class=\"row_heading level0 row1\" >Male</th>\n",
       "                        <td id=\"T_7cbee08c_9202_11e9_97ce_48a4726a9293row1_col0\" class=\"data row1 col0\" >652</td>\n",
       "                        <td id=\"T_7cbee08c_9202_11e9_97ce_48a4726a9293row1_col1\" class=\"data row1 col1\" >$3.02</td>\n",
       "                        <td id=\"T_7cbee08c_9202_11e9_97ce_48a4726a9293row1_col2\" class=\"data row1 col2\" >$1,967.64</td>\n",
       "                        <td id=\"T_7cbee08c_9202_11e9_97ce_48a4726a9293row1_col3\" class=\"data row1 col3\" >$4.07</td>\n",
       "            </tr>\n",
       "            <tr>\n",
       "                        <th id=\"T_7cbee08c_9202_11e9_97ce_48a4726a9293level0_row2\" class=\"row_heading level0 row2\" >Other / Non-Disclosed</th>\n",
       "                        <td id=\"T_7cbee08c_9202_11e9_97ce_48a4726a9293row2_col0\" class=\"data row2 col0\" >15</td>\n",
       "                        <td id=\"T_7cbee08c_9202_11e9_97ce_48a4726a9293row2_col1\" class=\"data row2 col1\" >$3.35</td>\n",
       "                        <td id=\"T_7cbee08c_9202_11e9_97ce_48a4726a9293row2_col2\" class=\"data row2 col2\" >$50.19</td>\n",
       "                        <td id=\"T_7cbee08c_9202_11e9_97ce_48a4726a9293row2_col3\" class=\"data row2 col3\" >$4.56</td>\n",
       "            </tr>\n",
       "    </tbody></table>"
      ],
      "text/plain": [
       "<pandas.io.formats.style.Styler at 0x1b310204208>"
      ]
     },
     "execution_count": 8,
     "metadata": {},
     "output_type": "execute_result"
    }
   ],
   "source": [
    "#create a new df, grouped by gender\n",
    "finance_data = purchase_data.groupby(['Gender'])\n",
    "\n",
    "#calc the total purchase based based on number of rows in Purchase ID\n",
    "purchase_count = finance_data.count()[\"Purchase ID\"]\n",
    "\n",
    "#calc the average price, rounded to 2 decimal points, off of the price column\n",
    "avg_purchase = round(finance_data.mean()[\"Price\"],2)\n",
    "\n",
    "#calc the total price, rounded to 2 decimal points, off of the price column\n",
    "total_purchase = round(finance_data.sum()[\"Price\"],2)\n",
    "\n",
    "#create a new df with custom headers to show the purchase count, avg price, total purchase and avg per person \n",
    "finance_summary_table = pd.DataFrame({\"Purchase Count\": purchase_count,\n",
    "                                      \"Average Purchase Price\": avg_purchase,\n",
    "                                      \"Total Purchase Value\": total_purchase,\n",
    "                                      \"Avg Total Purchase per Person\": total_purchase/total_count\n",
    "                                     })\n",
    "#print the new df\n",
    "finance_summary_table\n",
    "\n",
    "#format the columns with money\n",
    "finance_summary_table.style.format({\"Average Purchase Price\":\"${:,.2f}\",\n",
    "                                    \"Total Purchase Value\":\"${:,.2f}\",\n",
    "                                    \"Avg Total Purchase per Person\":\"${:,.2f}\",\n",
    "                                  })\n",
    "\n"
   ]
  },
  {
   "cell_type": "markdown",
   "metadata": {},
   "source": [
    "## Age Demographics"
   ]
  },
  {
   "cell_type": "markdown",
   "metadata": {},
   "source": [
    "* Establish bins for ages\n",
    "\n",
    "\n",
    "* Categorize the existing players using the age bins. Hint: use pd.cut()\n",
    "\n",
    "\n",
    "* Calculate the numbers and percentages by age group\n",
    "\n",
    "\n",
    "* Create a summary data frame to hold the results\n",
    "\n",
    "\n",
    "* Optional: round the percentage column to two decimal points\n",
    "\n",
    "\n",
    "* Display Age Demographics Table\n"
   ]
  },
  {
   "cell_type": "code",
   "execution_count": 9,
   "metadata": {},
   "outputs": [
    {
     "data": {
      "text/html": [
       "<div>\n",
       "<style scoped>\n",
       "    .dataframe tbody tr th:only-of-type {\n",
       "        vertical-align: middle;\n",
       "    }\n",
       "\n",
       "    .dataframe tbody tr th {\n",
       "        vertical-align: top;\n",
       "    }\n",
       "\n",
       "    .dataframe thead th {\n",
       "        text-align: right;\n",
       "    }\n",
       "</style>\n",
       "<table border=\"1\" class=\"dataframe\">\n",
       "  <thead>\n",
       "    <tr style=\"text-align: right;\">\n",
       "      <th></th>\n",
       "      <th>Total Count</th>\n",
       "      <th>Percentage of Players</th>\n",
       "    </tr>\n",
       "  </thead>\n",
       "  <tbody>\n",
       "    <tr>\n",
       "      <th>&lt;10</th>\n",
       "      <td>23</td>\n",
       "      <td>3.99</td>\n",
       "    </tr>\n",
       "    <tr>\n",
       "      <th>10-14</th>\n",
       "      <td>28</td>\n",
       "      <td>4.86</td>\n",
       "    </tr>\n",
       "    <tr>\n",
       "      <th>15-19</th>\n",
       "      <td>136</td>\n",
       "      <td>23.61</td>\n",
       "    </tr>\n",
       "    <tr>\n",
       "      <th>20-24</th>\n",
       "      <td>365</td>\n",
       "      <td>63.37</td>\n",
       "    </tr>\n",
       "    <tr>\n",
       "      <th>24-29</th>\n",
       "      <td>101</td>\n",
       "      <td>17.53</td>\n",
       "    </tr>\n",
       "    <tr>\n",
       "      <th>30-34</th>\n",
       "      <td>73</td>\n",
       "      <td>12.67</td>\n",
       "    </tr>\n",
       "    <tr>\n",
       "      <th>35-39</th>\n",
       "      <td>41</td>\n",
       "      <td>7.12</td>\n",
       "    </tr>\n",
       "    <tr>\n",
       "      <th>40+</th>\n",
       "      <td>13</td>\n",
       "      <td>2.26</td>\n",
       "    </tr>\n",
       "  </tbody>\n",
       "</table>\n",
       "</div>"
      ],
      "text/plain": [
       "       Total Count  Percentage of Players\n",
       "<10             23                   3.99\n",
       "10-14           28                   4.86\n",
       "15-19          136                  23.61\n",
       "20-24          365                  63.37\n",
       "24-29          101                  17.53\n",
       "30-34           73                  12.67\n",
       "35-39           41                   7.12\n",
       "40+             13                   2.26"
      ]
     },
     "execution_count": 9,
     "metadata": {},
     "output_type": "execute_result"
    }
   ],
   "source": [
    "# Create the 9 bins in which Data will be held\n",
    "bins = [0, 9, 14, 19, 24, 29, 34, 39, 100]\n",
    "\n",
    "# Create the names for the 8 bins\n",
    "group_names = [\"<10\",\"10-14\",\"15-19\",\"20-24\",\"24-29\",\"30-34\",\"35-39\",\"40+\"]\n",
    "\n",
    "#Add Age Bin columns to purhcase data set\n",
    "purchase_data[\"Age Bin\"] = pd.cut(purchase_data[\"Age\"], bins, labels=group_names)\n",
    "purchase_data.head()\n",
    "\n",
    "# Create a GroupBy object based upon \"Age Bin\"\n",
    "age_group = purchase_data.groupby(\"Age Bin\")\n",
    "\n",
    "# Find how many rows fall into each bin\n",
    "age_count = age_group[\"Age\"].count()\n",
    "\n",
    "#get the total number of counts based on unique Screen names, grouped by Gender. This stopped counting dup SN.\n",
    "count_total = purchase_data.nunique()[\"SN\"]\n",
    "\n",
    "#Create the Age Demographic Summary Table\n",
    "age_summary_table = pd.DataFrame({\"Total Count\": age_count,\n",
    "                                  \"Percentage of Players\": round(age_count/count_total * 100,2)\n",
    "                                 })\n",
    "\n",
    "#delete te Age Bin header from the df\n",
    "del age_summary_table.index.name\n",
    "\n",
    "#print the new df\n",
    "age_summary_table"
   ]
  },
  {
   "cell_type": "markdown",
   "metadata": {},
   "source": [
    "## Purchasing Analysis (Age)"
   ]
  },
  {
   "cell_type": "markdown",
   "metadata": {},
   "source": [
    "* Bin the purchase_data data frame by age\n",
    "\n",
    "\n",
    "* Run basic calculations to obtain purchase count, avg. purchase price, avg. purchase total per person etc. in the table below\n",
    "\n",
    "\n",
    "* Create a summary data frame to hold the results\n",
    "\n",
    "\n",
    "* Optional: give the displayed data cleaner formatting\n",
    "\n",
    "\n",
    "* Display the summary data frame"
   ]
  },
  {
   "cell_type": "code",
   "execution_count": 10,
   "metadata": {},
   "outputs": [
    {
     "data": {
      "text/html": [
       "<style  type=\"text/css\" >\n",
       "</style><table id=\"T_81ca4b3a_9202_11e9_bbaf_48a4726a9293\" ><thead>    <tr>        <th class=\"blank level0\" ></th>        <th class=\"col_heading level0 col0\" >Purchase Count</th>        <th class=\"col_heading level0 col1\" >Average Purchase Price</th>        <th class=\"col_heading level0 col2\" >Total Purchase Value</th>        <th class=\"col_heading level0 col3\" >Avgerage Total Purchase Per Person</th>    </tr></thead><tbody>\n",
       "                <tr>\n",
       "                        <th id=\"T_81ca4b3a_9202_11e9_bbaf_48a4726a9293level0_row0\" class=\"row_heading level0 row0\" ><10</th>\n",
       "                        <td id=\"T_81ca4b3a_9202_11e9_bbaf_48a4726a9293row0_col0\" class=\"data row0 col0\" >23</td>\n",
       "                        <td id=\"T_81ca4b3a_9202_11e9_bbaf_48a4726a9293row0_col1\" class=\"data row0 col1\" >$3.35</td>\n",
       "                        <td id=\"T_81ca4b3a_9202_11e9_bbaf_48a4726a9293row0_col2\" class=\"data row0 col2\" >$77.13</td>\n",
       "                        <td id=\"T_81ca4b3a_9202_11e9_bbaf_48a4726a9293row0_col3\" class=\"data row0 col3\" >$3.35</td>\n",
       "            </tr>\n",
       "            <tr>\n",
       "                        <th id=\"T_81ca4b3a_9202_11e9_bbaf_48a4726a9293level0_row1\" class=\"row_heading level0 row1\" >10-14</th>\n",
       "                        <td id=\"T_81ca4b3a_9202_11e9_bbaf_48a4726a9293row1_col0\" class=\"data row1 col0\" >28</td>\n",
       "                        <td id=\"T_81ca4b3a_9202_11e9_bbaf_48a4726a9293row1_col1\" class=\"data row1 col1\" >$2.96</td>\n",
       "                        <td id=\"T_81ca4b3a_9202_11e9_bbaf_48a4726a9293row1_col2\" class=\"data row1 col2\" >$82.78</td>\n",
       "                        <td id=\"T_81ca4b3a_9202_11e9_bbaf_48a4726a9293row1_col3\" class=\"data row1 col3\" >$2.96</td>\n",
       "            </tr>\n",
       "            <tr>\n",
       "                        <th id=\"T_81ca4b3a_9202_11e9_bbaf_48a4726a9293level0_row2\" class=\"row_heading level0 row2\" >15-19</th>\n",
       "                        <td id=\"T_81ca4b3a_9202_11e9_bbaf_48a4726a9293row2_col0\" class=\"data row2 col0\" >136</td>\n",
       "                        <td id=\"T_81ca4b3a_9202_11e9_bbaf_48a4726a9293row2_col1\" class=\"data row2 col1\" >$3.04</td>\n",
       "                        <td id=\"T_81ca4b3a_9202_11e9_bbaf_48a4726a9293row2_col2\" class=\"data row2 col2\" >$412.89</td>\n",
       "                        <td id=\"T_81ca4b3a_9202_11e9_bbaf_48a4726a9293row2_col3\" class=\"data row2 col3\" >$3.04</td>\n",
       "            </tr>\n",
       "            <tr>\n",
       "                        <th id=\"T_81ca4b3a_9202_11e9_bbaf_48a4726a9293level0_row3\" class=\"row_heading level0 row3\" >20-24</th>\n",
       "                        <td id=\"T_81ca4b3a_9202_11e9_bbaf_48a4726a9293row3_col0\" class=\"data row3 col0\" >365</td>\n",
       "                        <td id=\"T_81ca4b3a_9202_11e9_bbaf_48a4726a9293row3_col1\" class=\"data row3 col1\" >$3.05</td>\n",
       "                        <td id=\"T_81ca4b3a_9202_11e9_bbaf_48a4726a9293row3_col2\" class=\"data row3 col2\" >$1,114.06</td>\n",
       "                        <td id=\"T_81ca4b3a_9202_11e9_bbaf_48a4726a9293row3_col3\" class=\"data row3 col3\" >$3.05</td>\n",
       "            </tr>\n",
       "            <tr>\n",
       "                        <th id=\"T_81ca4b3a_9202_11e9_bbaf_48a4726a9293level0_row4\" class=\"row_heading level0 row4\" >24-29</th>\n",
       "                        <td id=\"T_81ca4b3a_9202_11e9_bbaf_48a4726a9293row4_col0\" class=\"data row4 col0\" >101</td>\n",
       "                        <td id=\"T_81ca4b3a_9202_11e9_bbaf_48a4726a9293row4_col1\" class=\"data row4 col1\" >$2.90</td>\n",
       "                        <td id=\"T_81ca4b3a_9202_11e9_bbaf_48a4726a9293row4_col2\" class=\"data row4 col2\" >$293.00</td>\n",
       "                        <td id=\"T_81ca4b3a_9202_11e9_bbaf_48a4726a9293row4_col3\" class=\"data row4 col3\" >$2.90</td>\n",
       "            </tr>\n",
       "            <tr>\n",
       "                        <th id=\"T_81ca4b3a_9202_11e9_bbaf_48a4726a9293level0_row5\" class=\"row_heading level0 row5\" >30-34</th>\n",
       "                        <td id=\"T_81ca4b3a_9202_11e9_bbaf_48a4726a9293row5_col0\" class=\"data row5 col0\" >73</td>\n",
       "                        <td id=\"T_81ca4b3a_9202_11e9_bbaf_48a4726a9293row5_col1\" class=\"data row5 col1\" >$2.93</td>\n",
       "                        <td id=\"T_81ca4b3a_9202_11e9_bbaf_48a4726a9293row5_col2\" class=\"data row5 col2\" >$214.00</td>\n",
       "                        <td id=\"T_81ca4b3a_9202_11e9_bbaf_48a4726a9293row5_col3\" class=\"data row5 col3\" >$2.93</td>\n",
       "            </tr>\n",
       "            <tr>\n",
       "                        <th id=\"T_81ca4b3a_9202_11e9_bbaf_48a4726a9293level0_row6\" class=\"row_heading level0 row6\" >35-39</th>\n",
       "                        <td id=\"T_81ca4b3a_9202_11e9_bbaf_48a4726a9293row6_col0\" class=\"data row6 col0\" >41</td>\n",
       "                        <td id=\"T_81ca4b3a_9202_11e9_bbaf_48a4726a9293row6_col1\" class=\"data row6 col1\" >$3.60</td>\n",
       "                        <td id=\"T_81ca4b3a_9202_11e9_bbaf_48a4726a9293row6_col2\" class=\"data row6 col2\" >$147.67</td>\n",
       "                        <td id=\"T_81ca4b3a_9202_11e9_bbaf_48a4726a9293row6_col3\" class=\"data row6 col3\" >$3.60</td>\n",
       "            </tr>\n",
       "            <tr>\n",
       "                        <th id=\"T_81ca4b3a_9202_11e9_bbaf_48a4726a9293level0_row7\" class=\"row_heading level0 row7\" >40+</th>\n",
       "                        <td id=\"T_81ca4b3a_9202_11e9_bbaf_48a4726a9293row7_col0\" class=\"data row7 col0\" >13</td>\n",
       "                        <td id=\"T_81ca4b3a_9202_11e9_bbaf_48a4726a9293row7_col1\" class=\"data row7 col1\" >$2.94</td>\n",
       "                        <td id=\"T_81ca4b3a_9202_11e9_bbaf_48a4726a9293row7_col2\" class=\"data row7 col2\" >$38.24</td>\n",
       "                        <td id=\"T_81ca4b3a_9202_11e9_bbaf_48a4726a9293row7_col3\" class=\"data row7 col3\" >$2.94</td>\n",
       "            </tr>\n",
       "    </tbody></table>"
      ],
      "text/plain": [
       "<pandas.io.formats.style.Styler at 0x1b310265160>"
      ]
     },
     "execution_count": 10,
     "metadata": {},
     "output_type": "execute_result"
    }
   ],
   "source": [
    "# Create the 9 bins in which Data will be held\n",
    "bins = [0, 9, 14, 19, 24, 29, 34, 39, 100]\n",
    "\n",
    "# Create the names for the 8 bins\n",
    "group_names = [\"<10\",\"10-14\",\"15-19\",\"20-24\",\"24-29\",\"30-34\",\"35-39\",\"40+\"]\n",
    "\n",
    "#Add Age Bin columns to purhcase data set\n",
    "purchase_data[\"Age Bin\"] = pd.cut(purchase_data[\"Age\"], bins, labels=group_names)\n",
    "purchase_data.head()\n",
    "\n",
    "# Create a GroupBy object based upon \"Age Bin\"\n",
    "finance_group = purchase_data.groupby(\"Age Bin\")\n",
    "\n",
    "# Find how many purchases were made \n",
    "finance_count = finance_group[\"Purchase ID\"].count()\n",
    "\n",
    "#Find the avg purchase price, by age group \n",
    "avg_purchase = round(finance_group[\"Price\"].mean(),2)\n",
    "\n",
    "#find the sum of purchases in each age bin\n",
    "total_purchase = finance_group[\"Price\"].sum()\n",
    "\n",
    "#Create the Age Demographic Summary Table\n",
    "purchase_summary_table = pd.DataFrame({\"Purchase Count\": finance_count,\n",
    "                                      \"Average Purchase Price\": avg_purchase,\n",
    "                                      \"Total Purchase Value\": total_purchase,\n",
    "                                      \"Avgerage Total Purchase Per Person\": round(total_purchase/finance_count,2)\n",
    "                                 })\n",
    "\n",
    "#delete te Age Bin header from the df\n",
    "del purchase_summary_table.index.name\n",
    "\n",
    "#print the new df\n",
    "purchase_summary_table\n",
    "\n",
    "#format the columns with money\n",
    "purchase_summary_table.style.format({\"Average Purchase Price\":\"${:,.2f}\",\n",
    "                                \"Total Purchase Value\":\"${:,.2f}\",\n",
    "                                \"Avgerage Total Purchase Per Person\":\"${:,.2f}\",\n",
    "                              })\n"
   ]
  },
  {
   "cell_type": "markdown",
   "metadata": {},
   "source": [
    "## Top Spenders"
   ]
  },
  {
   "cell_type": "markdown",
   "metadata": {},
   "source": [
    "* Run basic calculations to obtain the results in the table below\n",
    "\n",
    "\n",
    "* Create a summary data frame to hold the results\n",
    "\n",
    "\n",
    "* Sort the total purchase value column in descending order\n",
    "\n",
    "\n",
    "* Optional: give the displayed data cleaner formatting\n",
    "\n",
    "\n",
    "* Display a preview of the summary data frame\n",
    "\n"
   ]
  },
  {
   "cell_type": "code",
   "execution_count": 11,
   "metadata": {},
   "outputs": [
    {
     "data": {
      "text/html": [
       "<style  type=\"text/css\" >\n",
       "</style><table id=\"T_8578bd1c_9202_11e9_8b77_48a4726a9293\" ><thead>    <tr>        <th class=\"blank level0\" ></th>        <th class=\"col_heading level0 col0\" >Purchase Count</th>        <th class=\"col_heading level0 col1\" >Average Purchase Price</th>        <th class=\"col_heading level0 col2\" >Total Purchase Value</th>    </tr>    <tr>        <th class=\"index_name level0\" >SN</th>        <th class=\"blank\" ></th>        <th class=\"blank\" ></th>        <th class=\"blank\" ></th>    </tr></thead><tbody>\n",
       "                <tr>\n",
       "                        <th id=\"T_8578bd1c_9202_11e9_8b77_48a4726a9293level0_row0\" class=\"row_heading level0 row0\" >Lisosia93</th>\n",
       "                        <td id=\"T_8578bd1c_9202_11e9_8b77_48a4726a9293row0_col0\" class=\"data row0 col0\" >5</td>\n",
       "                        <td id=\"T_8578bd1c_9202_11e9_8b77_48a4726a9293row0_col1\" class=\"data row0 col1\" >$3.79</td>\n",
       "                        <td id=\"T_8578bd1c_9202_11e9_8b77_48a4726a9293row0_col2\" class=\"data row0 col2\" >$18.96</td>\n",
       "            </tr>\n",
       "            <tr>\n",
       "                        <th id=\"T_8578bd1c_9202_11e9_8b77_48a4726a9293level0_row1\" class=\"row_heading level0 row1\" >Idastidru52</th>\n",
       "                        <td id=\"T_8578bd1c_9202_11e9_8b77_48a4726a9293row1_col0\" class=\"data row1 col0\" >4</td>\n",
       "                        <td id=\"T_8578bd1c_9202_11e9_8b77_48a4726a9293row1_col1\" class=\"data row1 col1\" >$3.86</td>\n",
       "                        <td id=\"T_8578bd1c_9202_11e9_8b77_48a4726a9293row1_col2\" class=\"data row1 col2\" >$15.45</td>\n",
       "            </tr>\n",
       "            <tr>\n",
       "                        <th id=\"T_8578bd1c_9202_11e9_8b77_48a4726a9293level0_row2\" class=\"row_heading level0 row2\" >Chamjask73</th>\n",
       "                        <td id=\"T_8578bd1c_9202_11e9_8b77_48a4726a9293row2_col0\" class=\"data row2 col0\" >3</td>\n",
       "                        <td id=\"T_8578bd1c_9202_11e9_8b77_48a4726a9293row2_col1\" class=\"data row2 col1\" >$4.61</td>\n",
       "                        <td id=\"T_8578bd1c_9202_11e9_8b77_48a4726a9293row2_col2\" class=\"data row2 col2\" >$13.83</td>\n",
       "            </tr>\n",
       "            <tr>\n",
       "                        <th id=\"T_8578bd1c_9202_11e9_8b77_48a4726a9293level0_row3\" class=\"row_heading level0 row3\" >Iral74</th>\n",
       "                        <td id=\"T_8578bd1c_9202_11e9_8b77_48a4726a9293row3_col0\" class=\"data row3 col0\" >4</td>\n",
       "                        <td id=\"T_8578bd1c_9202_11e9_8b77_48a4726a9293row3_col1\" class=\"data row3 col1\" >$3.40</td>\n",
       "                        <td id=\"T_8578bd1c_9202_11e9_8b77_48a4726a9293row3_col2\" class=\"data row3 col2\" >$13.62</td>\n",
       "            </tr>\n",
       "            <tr>\n",
       "                        <th id=\"T_8578bd1c_9202_11e9_8b77_48a4726a9293level0_row4\" class=\"row_heading level0 row4\" >Iskadarya95</th>\n",
       "                        <td id=\"T_8578bd1c_9202_11e9_8b77_48a4726a9293row4_col0\" class=\"data row4 col0\" >3</td>\n",
       "                        <td id=\"T_8578bd1c_9202_11e9_8b77_48a4726a9293row4_col1\" class=\"data row4 col1\" >$4.37</td>\n",
       "                        <td id=\"T_8578bd1c_9202_11e9_8b77_48a4726a9293row4_col2\" class=\"data row4 col2\" >$13.10</td>\n",
       "            </tr>\n",
       "    </tbody></table>"
      ],
      "text/plain": [
       "<pandas.io.formats.style.Styler at 0x1b30dedaba8>"
      ]
     },
     "execution_count": 11,
     "metadata": {},
     "output_type": "execute_result"
    }
   ],
   "source": [
    "#create new df, grouped by SN\n",
    "top_spenders = purchase_data.groupby(\"SN\")\n",
    "top_spenders.head()\n",
    "\n",
    "#calc the total purchase based based on number of rows in Purchase ID\n",
    "total_bought = top_spenders.count()[\"Purchase ID\"]\n",
    "\n",
    "#calc the average price, rounded to 2 decimal points, off of the price column\n",
    "total_avg_purchase = round(top_spenders.mean()[\"Price\"],2)\n",
    "\n",
    "#calc the total price, rounded to 2 decimal points, off of the price column\n",
    "total_cost_spent = round(top_spenders.sum()[\"Price\"],2)\n",
    "\n",
    "#top_spenders[\"total_cost_spent\"] = top_spenders[\"total_cost_spent\"].astype(float).map(\n",
    "#    \"${:,.2f}\".format)\n",
    "\n",
    "#Create the Top Spenders table\n",
    "spenders_summary_table = pd.DataFrame({\"Purchase Count\": total_bought,\n",
    "                                      \"Average Purchase Price\": total_avg_purchase,\n",
    "                                      \"Total Purchase Value\": total_cost_spent\n",
    "                                 })\n",
    "\n",
    "#created a new df to sort the values from high to low, greatest total purchase\n",
    "cleansed_spenders = spenders_summary_table.sort_values(\"Total Purchase Value\", ascending=False).head(5)\n",
    "\n",
    "#format the columns with money\n",
    "cleansed_spenders.style.format({\"Average Purchase Price\":\"${:,.2f}\",\n",
    "                                \"Total Purchase Value\":\"${:,.2f}\"})"
   ]
  },
  {
   "cell_type": "markdown",
   "metadata": {},
   "source": [
    "## Most Popular Items"
   ]
  },
  {
   "cell_type": "markdown",
   "metadata": {},
   "source": [
    "* Retrieve the Item ID, Item Name, and Item Price columns\n",
    "\n",
    "\n",
    "* Group by Item ID and Item Name. Perform calculations to obtain purchase count, item price, and total purchase value\n",
    "\n",
    "\n",
    "* Create a summary data frame to hold the results\n",
    "\n",
    "\n",
    "* Sort the purchase count column in descending order\n",
    "\n",
    "\n",
    "* Optional: give the displayed data cleaner formatting\n",
    "\n",
    "\n",
    "* Display a preview of the summary data frame\n",
    "\n"
   ]
  },
  {
   "cell_type": "code",
   "execution_count": 12,
   "metadata": {},
   "outputs": [
    {
     "data": {
      "text/html": [
       "<style  type=\"text/css\" >\n",
       "</style><table id=\"T_88281e46_9202_11e9_9b8a_48a4726a9293\" ><thead>    <tr>        <th class=\"blank\" ></th>        <th class=\"blank level0\" ></th>        <th class=\"col_heading level0 col0\" >Purchase Count</th>        <th class=\"col_heading level0 col1\" >Item Price</th>        <th class=\"col_heading level0 col2\" >Total Purchase Value</th>    </tr>    <tr>        <th class=\"index_name level0\" >Item ID</th>        <th class=\"index_name level1\" >Item Name</th>        <th class=\"blank\" ></th>        <th class=\"blank\" ></th>        <th class=\"blank\" ></th>    </tr></thead><tbody>\n",
       "                <tr>\n",
       "                        <th id=\"T_88281e46_9202_11e9_9b8a_48a4726a9293level0_row0\" class=\"row_heading level0 row0\" >178</th>\n",
       "                        <th id=\"T_88281e46_9202_11e9_9b8a_48a4726a9293level1_row0\" class=\"row_heading level1 row0\" >Oathbreaker, Last Hope of the Breaking Storm</th>\n",
       "                        <td id=\"T_88281e46_9202_11e9_9b8a_48a4726a9293row0_col0\" class=\"data row0 col0\" >12</td>\n",
       "                        <td id=\"T_88281e46_9202_11e9_9b8a_48a4726a9293row0_col1\" class=\"data row0 col1\" >$4.23</td>\n",
       "                        <td id=\"T_88281e46_9202_11e9_9b8a_48a4726a9293row0_col2\" class=\"data row0 col2\" >$50.76</td>\n",
       "            </tr>\n",
       "            <tr>\n",
       "                        <th id=\"T_88281e46_9202_11e9_9b8a_48a4726a9293level0_row1\" class=\"row_heading level0 row1\" >145</th>\n",
       "                        <th id=\"T_88281e46_9202_11e9_9b8a_48a4726a9293level1_row1\" class=\"row_heading level1 row1\" >Fiery Glass Crusader</th>\n",
       "                        <td id=\"T_88281e46_9202_11e9_9b8a_48a4726a9293row1_col0\" class=\"data row1 col0\" >9</td>\n",
       "                        <td id=\"T_88281e46_9202_11e9_9b8a_48a4726a9293row1_col1\" class=\"data row1 col1\" >$4.58</td>\n",
       "                        <td id=\"T_88281e46_9202_11e9_9b8a_48a4726a9293row1_col2\" class=\"data row1 col2\" >$41.22</td>\n",
       "            </tr>\n",
       "            <tr>\n",
       "                        <th id=\"T_88281e46_9202_11e9_9b8a_48a4726a9293level0_row2\" class=\"row_heading level0 row2\" >108</th>\n",
       "                        <th id=\"T_88281e46_9202_11e9_9b8a_48a4726a9293level1_row2\" class=\"row_heading level1 row2\" >Extraction, Quickblade Of Trembling Hands</th>\n",
       "                        <td id=\"T_88281e46_9202_11e9_9b8a_48a4726a9293row2_col0\" class=\"data row2 col0\" >9</td>\n",
       "                        <td id=\"T_88281e46_9202_11e9_9b8a_48a4726a9293row2_col1\" class=\"data row2 col1\" >$3.53</td>\n",
       "                        <td id=\"T_88281e46_9202_11e9_9b8a_48a4726a9293row2_col2\" class=\"data row2 col2\" >$31.77</td>\n",
       "            </tr>\n",
       "            <tr>\n",
       "                        <th id=\"T_88281e46_9202_11e9_9b8a_48a4726a9293level0_row3\" class=\"row_heading level0 row3\" >82</th>\n",
       "                        <th id=\"T_88281e46_9202_11e9_9b8a_48a4726a9293level1_row3\" class=\"row_heading level1 row3\" >Nirvana</th>\n",
       "                        <td id=\"T_88281e46_9202_11e9_9b8a_48a4726a9293row3_col0\" class=\"data row3 col0\" >9</td>\n",
       "                        <td id=\"T_88281e46_9202_11e9_9b8a_48a4726a9293row3_col1\" class=\"data row3 col1\" >$4.90</td>\n",
       "                        <td id=\"T_88281e46_9202_11e9_9b8a_48a4726a9293row3_col2\" class=\"data row3 col2\" >$44.10</td>\n",
       "            </tr>\n",
       "            <tr>\n",
       "                        <th id=\"T_88281e46_9202_11e9_9b8a_48a4726a9293level0_row4\" class=\"row_heading level0 row4\" >19</th>\n",
       "                        <th id=\"T_88281e46_9202_11e9_9b8a_48a4726a9293level1_row4\" class=\"row_heading level1 row4\" >Pursuit, Cudgel of Necromancy</th>\n",
       "                        <td id=\"T_88281e46_9202_11e9_9b8a_48a4726a9293row4_col0\" class=\"data row4 col0\" >8</td>\n",
       "                        <td id=\"T_88281e46_9202_11e9_9b8a_48a4726a9293row4_col1\" class=\"data row4 col1\" >$1.02</td>\n",
       "                        <td id=\"T_88281e46_9202_11e9_9b8a_48a4726a9293row4_col2\" class=\"data row4 col2\" >$8.16</td>\n",
       "            </tr>\n",
       "    </tbody></table>"
      ],
      "text/plain": [
       "<pandas.io.formats.style.Styler at 0x1b310f9d5f8>"
      ]
     },
     "execution_count": 12,
     "metadata": {},
     "output_type": "execute_result"
    }
   ],
   "source": [
    "#create new df, grouped by Item ID and Item Name\n",
    "most_profit = purchase_data.groupby([\"Item ID\",\"Item Name\"])\n",
    "most_profit.head()\n",
    "\n",
    "#count the number of times the item was purhcased\n",
    "profit_count = most_profit.count()[\"Purchase ID\"]\n",
    "\n",
    "profit_sum = most_profit.sum()[\"Price\"]\n",
    "\n",
    "#Create the Most Popular table\n",
    "popular_summary_table = pd.DataFrame({\"Purchase Count\": profit_count,\n",
    "                                      \"Item Price\": round(profit_sum/profit_count,2),\n",
    "                                      \"Total Purchase Value\": round(profit_sum,2)\n",
    "                                 })\n",
    "\n",
    "#created a new df to list the items, by most purchased\n",
    "cleansed_popular = popular_summary_table.sort_values(\"Purchase Count\", ascending=False).head(5)\n",
    "#format the columns with money\n",
    "cleansed_popular.style.format({\"Item Price\":\"${:,.2f}\",\n",
    "                                \"Total Purchase Value\":\"${:,.2f}\"})"
   ]
  },
  {
   "cell_type": "markdown",
   "metadata": {},
   "source": [
    "## Most Profitable Items"
   ]
  },
  {
   "cell_type": "markdown",
   "metadata": {},
   "source": [
    "* Sort the above table by total purchase value in descending order\n",
    "\n",
    "\n",
    "* Optional: give the displayed data cleaner formatting\n",
    "\n",
    "\n",
    "* Display a preview of the data frame\n",
    "\n"
   ]
  },
  {
   "cell_type": "code",
   "execution_count": 13,
   "metadata": {
    "scrolled": false
   },
   "outputs": [
    {
     "data": {
      "text/html": [
       "<style  type=\"text/css\" >\n",
       "</style><table id=\"T_89b0da82_9202_11e9_a731_48a4726a9293\" ><thead>    <tr>        <th class=\"blank\" ></th>        <th class=\"blank level0\" ></th>        <th class=\"col_heading level0 col0\" >Purchase Count</th>        <th class=\"col_heading level0 col1\" >Item Price</th>        <th class=\"col_heading level0 col2\" >Total Purchase Value</th>    </tr>    <tr>        <th class=\"index_name level0\" >Item ID</th>        <th class=\"index_name level1\" >Item Name</th>        <th class=\"blank\" ></th>        <th class=\"blank\" ></th>        <th class=\"blank\" ></th>    </tr></thead><tbody>\n",
       "                <tr>\n",
       "                        <th id=\"T_89b0da82_9202_11e9_a731_48a4726a9293level0_row0\" class=\"row_heading level0 row0\" >178</th>\n",
       "                        <th id=\"T_89b0da82_9202_11e9_a731_48a4726a9293level1_row0\" class=\"row_heading level1 row0\" >Oathbreaker, Last Hope of the Breaking Storm</th>\n",
       "                        <td id=\"T_89b0da82_9202_11e9_a731_48a4726a9293row0_col0\" class=\"data row0 col0\" >12</td>\n",
       "                        <td id=\"T_89b0da82_9202_11e9_a731_48a4726a9293row0_col1\" class=\"data row0 col1\" >$4.23</td>\n",
       "                        <td id=\"T_89b0da82_9202_11e9_a731_48a4726a9293row0_col2\" class=\"data row0 col2\" >$50.76</td>\n",
       "            </tr>\n",
       "            <tr>\n",
       "                        <th id=\"T_89b0da82_9202_11e9_a731_48a4726a9293level0_row1\" class=\"row_heading level0 row1\" >82</th>\n",
       "                        <th id=\"T_89b0da82_9202_11e9_a731_48a4726a9293level1_row1\" class=\"row_heading level1 row1\" >Nirvana</th>\n",
       "                        <td id=\"T_89b0da82_9202_11e9_a731_48a4726a9293row1_col0\" class=\"data row1 col0\" >9</td>\n",
       "                        <td id=\"T_89b0da82_9202_11e9_a731_48a4726a9293row1_col1\" class=\"data row1 col1\" >$4.90</td>\n",
       "                        <td id=\"T_89b0da82_9202_11e9_a731_48a4726a9293row1_col2\" class=\"data row1 col2\" >$44.10</td>\n",
       "            </tr>\n",
       "            <tr>\n",
       "                        <th id=\"T_89b0da82_9202_11e9_a731_48a4726a9293level0_row2\" class=\"row_heading level0 row2\" >145</th>\n",
       "                        <th id=\"T_89b0da82_9202_11e9_a731_48a4726a9293level1_row2\" class=\"row_heading level1 row2\" >Fiery Glass Crusader</th>\n",
       "                        <td id=\"T_89b0da82_9202_11e9_a731_48a4726a9293row2_col0\" class=\"data row2 col0\" >9</td>\n",
       "                        <td id=\"T_89b0da82_9202_11e9_a731_48a4726a9293row2_col1\" class=\"data row2 col1\" >$4.58</td>\n",
       "                        <td id=\"T_89b0da82_9202_11e9_a731_48a4726a9293row2_col2\" class=\"data row2 col2\" >$41.22</td>\n",
       "            </tr>\n",
       "            <tr>\n",
       "                        <th id=\"T_89b0da82_9202_11e9_a731_48a4726a9293level0_row3\" class=\"row_heading level0 row3\" >92</th>\n",
       "                        <th id=\"T_89b0da82_9202_11e9_a731_48a4726a9293level1_row3\" class=\"row_heading level1 row3\" >Final Critic</th>\n",
       "                        <td id=\"T_89b0da82_9202_11e9_a731_48a4726a9293row3_col0\" class=\"data row3 col0\" >8</td>\n",
       "                        <td id=\"T_89b0da82_9202_11e9_a731_48a4726a9293row3_col1\" class=\"data row3 col1\" >$4.88</td>\n",
       "                        <td id=\"T_89b0da82_9202_11e9_a731_48a4726a9293row3_col2\" class=\"data row3 col2\" >$39.04</td>\n",
       "            </tr>\n",
       "            <tr>\n",
       "                        <th id=\"T_89b0da82_9202_11e9_a731_48a4726a9293level0_row4\" class=\"row_heading level0 row4\" >103</th>\n",
       "                        <th id=\"T_89b0da82_9202_11e9_a731_48a4726a9293level1_row4\" class=\"row_heading level1 row4\" >Singed Scalpel</th>\n",
       "                        <td id=\"T_89b0da82_9202_11e9_a731_48a4726a9293row4_col0\" class=\"data row4 col0\" >8</td>\n",
       "                        <td id=\"T_89b0da82_9202_11e9_a731_48a4726a9293row4_col1\" class=\"data row4 col1\" >$4.35</td>\n",
       "                        <td id=\"T_89b0da82_9202_11e9_a731_48a4726a9293row4_col2\" class=\"data row4 col2\" >$34.80</td>\n",
       "            </tr>\n",
       "    </tbody></table>"
      ],
      "text/plain": [
       "<pandas.io.formats.style.Styler at 0x1b310f7bda0>"
      ]
     },
     "execution_count": 13,
     "metadata": {},
     "output_type": "execute_result"
    }
   ],
   "source": [
    "#created a new df to list the items, by most purchased\n",
    "cleansed_popular = popular_summary_table.sort_values(\"Total Purchase Value\", ascending=False).head(5)\n",
    "#format the columns with money\n",
    "cleansed_popular.style.format({\"Item Price\":\"${:,.2f}\",\n",
    "                                \"Total Purchase Value\":\"${:,.2f}\"})\n"
   ]
  },
  {
   "cell_type": "code",
   "execution_count": 14,
   "metadata": {},
   "outputs": [],
   "source": [
    "#write-up of observable trends in .txt file"
   ]
  },
  {
   "cell_type": "code",
   "execution_count": null,
   "metadata": {},
   "outputs": [],
   "source": []
  }
 ],
 "metadata": {
  "anaconda-cloud": {},
  "kernel_info": {
   "name": "python3"
  },
  "kernelspec": {
   "display_name": "Python 3",
   "language": "python",
   "name": "python3"
  },
  "language_info": {
   "codemirror_mode": {
    "name": "ipython",
    "version": 3
   },
   "file_extension": ".py",
   "mimetype": "text/x-python",
   "name": "python",
   "nbconvert_exporter": "python",
   "pygments_lexer": "ipython3",
   "version": "3.7.3"
  },
  "nteract": {
   "version": "0.2.0"
  }
 },
 "nbformat": 4,
 "nbformat_minor": 2
}
